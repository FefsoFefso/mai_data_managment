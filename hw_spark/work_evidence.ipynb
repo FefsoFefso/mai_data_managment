{
 "cells": [
  {
   "cell_type": "code",
   "execution_count": 10,
   "id": "a4c1a25a",
   "metadata": {},
   "outputs": [],
   "source": [
    "import findspark\n",
    "findspark.init()\n",
    "\n",
    "import pyspark\n",
    "from pyspark.sql import SparkSession\n",
    "\n",
    "spark = SparkSession.builder.appName('SparkByExamples.com').getOrCreate()"
   ]
  },
  {
   "cell_type": "code",
   "execution_count": 3,
   "id": "962aca75",
   "metadata": {},
   "outputs": [],
   "source": [
    "import os "
   ]
  },
  {
   "cell_type": "code",
   "execution_count": 4,
   "id": "7617d3aa",
   "metadata": {},
   "outputs": [
    {
     "data": {
      "text/plain": [
       "['.DS_Store',\n",
       " 'Untitled.ipynb',\n",
       " 'dot-airline-on-time-performance-statistics',\n",
       " 'air_stats',\n",
       " '.ipynb_checkpoints']"
      ]
     },
     "execution_count": 4,
     "metadata": {},
     "output_type": "execute_result"
    }
   ],
   "source": [
    "os.listdir()"
   ]
  },
  {
   "cell_type": "code",
   "execution_count": 6,
   "id": "1182ec15",
   "metadata": {},
   "outputs": [],
   "source": [
    "df = spark.read.csv('./air_stats/aircraft.csv', sep=';', header='true')"
   ]
  },
  {
   "cell_type": "code",
   "execution_count": 7,
   "id": "beba7d02",
   "metadata": {},
   "outputs": [
    {
     "name": "stdout",
     "output_type": "stream",
     "text": [
      "+-----------------------------------+\n",
      "|Тип (наименование) воздушного судна|\n",
      "+-----------------------------------+\n",
      "|                   Авиатика 890-582|\n",
      "|                          Практик-С|\n",
      "|                       SportCruiser|\n",
      "|                         Пионер-УТ3|\n",
      "|                            R-44-II|\n",
      "|                              СП-90|\n",
      "|                               Л-6М|\n",
      "|                               К-10|\n",
      "|                          Птенец-2А|\n",
      "|                         Калидус 04|\n",
      "|                              FA-20|\n",
      "|                             HUNTER|\n",
      "|                        PZL Koliber|\n",
      "|                                МИР|\n",
      "|                         Sky Ranger|\n",
      "|                             Че-257|\n",
      "|                              Au-30|\n",
      "|                           Х-32-912|\n",
      "|                             СП-34К|\n",
      "|                          Red Liner|\n",
      "+-----------------------------------+\n",
      "only showing top 20 rows\n",
      "\n"
     ]
    }
   ],
   "source": [
    "from pyspark.sql.functions import col, regexp_extract\n",
    "\n",
    "df1 = df.filter(df[\"Опознавательные знаки\"].rlike('RA-.*|RF-.*')).select(col('Тип (наименование) воздушного судна')).distinct().show()"
   ]
  },
  {
   "cell_type": "code",
   "execution_count": 8,
   "id": "b6f8c7b0",
   "metadata": {},
   "outputs": [
    {
     "name": "stdout",
     "output_type": "stream",
     "text": [
      "+-----------------------------------+\n",
      "|Тип (наименование) воздушного судна|\n",
      "+-----------------------------------+\n",
      "|                               Ан-2|\n",
      "+-----------------------------------+\n",
      "\n"
     ]
    }
   ],
   "source": [
    "\"\"\"\n",
    "Нужно выбрать 'Тип (наименование) воздушного судна', у которого дата самая поздняя 'дата действующего свидетельства о регистрации'. \n",
    "\"\"\"\n",
    "\n",
    "df.withColumn('дата действующего свидетельства о регистрации', col('дата действующего свидетельства о регистрации')\\\n",
    "            .cast('timestamp'))\\\n",
    "            .filter(\n",
    "                df[\"дата действующего свидетельства о регистрации\"] == df.agg({\"дата действующего свидетельства о регистрации\": \"min\"}).collect()[0][0]\n",
    "            ).select(col('Тип (наименование) воздушного судна'))\\\n",
    "            .show()\n"
   ]
  },
  {
   "cell_type": "code",
   "execution_count": 9,
   "id": "173e32ad",
   "metadata": {},
   "outputs": [],
   "source": [
    "#spark.stop()"
   ]
  }
 ],
 "metadata": {
  "kernelspec": {
   "display_name": "Python 3 (ipykernel)",
   "language": "python",
   "name": "python3"
  },
  "language_info": {
   "codemirror_mode": {
    "name": "ipython",
    "version": 3
   },
   "file_extension": ".py",
   "mimetype": "text/x-python",
   "name": "python",
   "nbconvert_exporter": "python",
   "pygments_lexer": "ipython3",
   "version": "3.10.8"
  }
 },
 "nbformat": 4,
 "nbformat_minor": 5
}
